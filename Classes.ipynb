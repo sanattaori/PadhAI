{
  "nbformat": 4,
  "nbformat_minor": 0,
  "metadata": {
    "colab": {
      "name": "Classes.ipynb",
      "version": "0.3.2",
      "provenance": [],
      "collapsed_sections": [],
      "include_colab_link": true
    },
    "kernelspec": {
      "name": "python3",
      "display_name": "Python 3"
    }
  },
  "cells": [
    {
      "cell_type": "markdown",
      "metadata": {
        "id": "view-in-github",
        "colab_type": "text"
      },
      "source": [
        "<a href=\"https://colab.research.google.com/github/sanattaori/PadhAI/blob/master/Classes.ipynb\" target=\"_parent\"><img src=\"https://colab.research.google.com/assets/colab-badge.svg\" alt=\"Open In Colab\"/></a>"
      ]
    },
    {
      "metadata": {
        "id": "CmaiFz5OF1Dd",
        "colab_type": "text"
      },
      "cell_type": "markdown",
      "source": [
        "# Python Classes"
      ]
    },
    {
      "metadata": {
        "id": "BvC732HnFwub",
        "colab_type": "code",
        "colab": {}
      },
      "cell_type": "code",
      "source": [
        "class MainPhone:\n",
        "  \"\"\"Sample Test Class\"\"\"\n",
        "  def __init__(self, name, is_android=False, screen_size = 6):\n",
        "    self.name = name\n",
        "    self.is_android = is_android\n",
        "    self.screen_size = screen_size\n",
        "    self.rating = 1\n",
        "  def has_ratings(self):\n",
        "    return self.rating > 1 "
      ],
      "execution_count": 0,
      "outputs": []
    },
    {
      "metadata": {
        "id": "4bitLXRgF56V",
        "colab_type": "code",
        "colab": {}
      },
      "cell_type": "code",
      "source": [
        "new_phone = MainPhone('Iphone 8')"
      ],
      "execution_count": 0,
      "outputs": []
    },
    {
      "metadata": {
        "id": "yePkFYsPF_Ur",
        "colab_type": "code",
        "colab": {
          "base_uri": "https://localhost:8080/",
          "height": 35
        },
        "outputId": "af00937d-92c9-41ba-b16f-74156ed1c279"
      },
      "cell_type": "code",
      "source": [
        "type(new_phone)"
      ],
      "execution_count": 30,
      "outputs": [
        {
          "output_type": "execute_result",
          "data": {
            "text/plain": [
              "__main__.MainPhone"
            ]
          },
          "metadata": {
            "tags": []
          },
          "execution_count": 30
        }
      ]
    },
    {
      "metadata": {
        "id": "fNBmpKqwGCic",
        "colab_type": "code",
        "colab": {
          "base_uri": "https://localhost:8080/",
          "height": 35
        },
        "outputId": "bc21a8ff-860c-434f-e6a2-d3167a3315e7"
      },
      "cell_type": "code",
      "source": [
        "new_phone"
      ],
      "execution_count": 31,
      "outputs": [
        {
          "output_type": "execute_result",
          "data": {
            "text/plain": [
              "<__main__.MainPhone at 0x7f38b1a79358>"
            ]
          },
          "metadata": {
            "tags": []
          },
          "execution_count": 31
        }
      ]
    },
    {
      "metadata": {
        "id": "Sn96h6l8GqoA",
        "colab_type": "code",
        "colab": {
          "base_uri": "https://localhost:8080/",
          "height": 35
        },
        "outputId": "7f1c8559-8150-4624-ae5b-16831986322c"
      },
      "cell_type": "code",
      "source": [
        "print(new_phone.is_android,new_phone.screen_size)"
      ],
      "execution_count": 33,
      "outputs": [
        {
          "output_type": "stream",
          "text": [
            "False 6\n"
          ],
          "name": "stdout"
        }
      ]
    },
    {
      "metadata": {
        "id": "gAy4OKPOHQdw",
        "colab_type": "code",
        "colab": {}
      },
      "cell_type": "code",
      "source": [
        "new_phone.screen_size = 5"
      ],
      "execution_count": 0,
      "outputs": []
    },
    {
      "metadata": {
        "id": "ywdaYgi8Hp1q",
        "colab_type": "code",
        "colab": {
          "base_uri": "https://localhost:8080/",
          "height": 35
        },
        "outputId": "19843516-8367-4dd1-ab25-9c2b57dcbd3c"
      },
      "cell_type": "code",
      "source": [
        "new_phone.has_ratings()"
      ],
      "execution_count": 42,
      "outputs": [
        {
          "output_type": "execute_result",
          "data": {
            "text/plain": [
              "False"
            ]
          },
          "metadata": {
            "tags": []
          },
          "execution_count": 42
        }
      ]
    },
    {
      "metadata": {
        "id": "yVsZjsJ6IRCk",
        "colab_type": "code",
        "colab": {
          "base_uri": "https://localhost:8080/",
          "height": 35
        },
        "outputId": "10adf173-621a-4cb6-b7a6-3f6099bbbd9e"
      },
      "cell_type": "code",
      "source": [
        "new_phone.rating = 4\n",
        "new_phone.has_ratings()"
      ],
      "execution_count": 43,
      "outputs": [
        {
          "output_type": "execute_result",
          "data": {
            "text/plain": [
              "True"
            ]
          },
          "metadata": {
            "tags": []
          },
          "execution_count": 43
        }
      ]
    },
    {
      "metadata": {
        "id": "VbslaXwCIllV",
        "colab_type": "code",
        "colab": {
          "base_uri": "https://localhost:8080/",
          "height": 35
        },
        "outputId": "497b38ba-b07b-4a1a-ff62-fcaa8e89b46b"
      },
      "cell_type": "code",
      "source": [
        "MainPhone.__doc__"
      ],
      "execution_count": 45,
      "outputs": [
        {
          "output_type": "execute_result",
          "data": {
            "text/plain": [
              "'Sample Test Class'"
            ]
          },
          "metadata": {
            "tags": []
          },
          "execution_count": 45
        }
      ]
    },
    {
      "metadata": {
        "id": "DgUUg04VIwnT",
        "colab_type": "code",
        "colab": {}
      },
      "cell_type": "code",
      "source": [
        "#inheritance\n",
        "class iPhone(MainPhone):\n",
        "  def __init__(self,name):\n",
        "    MainPhone.__init__(self, name, False, 5.5)\n",
        "    \n",
        "  def __str__(self):\n",
        "    return self.name + \" \" + str(self.is_android)"
      ],
      "execution_count": 0,
      "outputs": []
    },
    {
      "metadata": {
        "id": "iACATErgJpYn",
        "colab_type": "code",
        "colab": {}
      },
      "cell_type": "code",
      "source": [
        "new_phone = iPhone('iPhone 5s')"
      ],
      "execution_count": 0,
      "outputs": []
    },
    {
      "metadata": {
        "id": "gzzLOp3oJt1A",
        "colab_type": "code",
        "colab": {
          "base_uri": "https://localhost:8080/",
          "height": 35
        },
        "outputId": "a83741ed-ed78-4818-9537-10095f2260a4"
      },
      "cell_type": "code",
      "source": [
        "new_phone.screen_size"
      ],
      "execution_count": 51,
      "outputs": [
        {
          "output_type": "execute_result",
          "data": {
            "text/plain": [
              "5.5"
            ]
          },
          "metadata": {
            "tags": []
          },
          "execution_count": 51
        }
      ]
    },
    {
      "metadata": {
        "id": "cp4kFh21J7cd",
        "colab_type": "code",
        "colab": {
          "base_uri": "https://localhost:8080/",
          "height": 35
        },
        "outputId": "0a6ee3ef-7c88-483e-87c4-fd22b5efdfd9"
      },
      "cell_type": "code",
      "source": [
        "print(new_phone)"
      ],
      "execution_count": 55,
      "outputs": [
        {
          "output_type": "stream",
          "text": [
            "iPhone 5s False\n"
          ],
          "name": "stdout"
        }
      ]
    },
    {
      "metadata": {
        "id": "PmDBE6rUKT3g",
        "colab_type": "code",
        "colab": {
          "base_uri": "https://localhost:8080/",
          "height": 35
        },
        "outputId": "e2a8a074-bdd5-4ba4-e8c0-b666cb98f8e5"
      },
      "cell_type": "code",
      "source": [
        "new_phone"
      ],
      "execution_count": 56,
      "outputs": [
        {
          "output_type": "execute_result",
          "data": {
            "text/plain": [
              "<__main__.iPhone at 0x7f38b1a85d30>"
            ]
          },
          "metadata": {
            "tags": []
          },
          "execution_count": 56
        }
      ]
    },
    {
      "metadata": {
        "id": "Cu79BdcHKcnI",
        "colab_type": "code",
        "colab": {}
      },
      "cell_type": "code",
      "source": [
        ""
      ],
      "execution_count": 0,
      "outputs": []
    }
  ]
}